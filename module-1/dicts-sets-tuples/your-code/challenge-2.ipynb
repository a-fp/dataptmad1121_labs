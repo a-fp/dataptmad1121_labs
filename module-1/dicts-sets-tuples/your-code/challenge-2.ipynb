{
 "cells": [
  {
   "cell_type": "markdown",
   "metadata": {},
   "source": [
    "## Challenge 2: Sets\n",
    "\n",
    "There are a lot to learn about Python Sets and the information presented in the lesson is limited due to its length. To learn Python Sets in depth you are strongly encouraged to review the W3Schools tutorial on [Python Sets Examples and Methods](https://www.w3schools.com/python/python_sets.asp) before you work on this lab. Some difficult questions in this lab have their solutions in the W3Schools tutorial.\n",
    "\n",
    "#### First, import the Python `random` library."
   ]
  },
  {
   "cell_type": "code",
   "execution_count": 2,
   "metadata": {},
   "outputs": [],
   "source": [
    "import random"
   ]
  },
  {
   "cell_type": "markdown",
   "metadata": {},
   "source": [
    "#### In the cell below, create a list named `sample_list_1` with 80 random values. \n",
    "\n",
    "Requirements:\n",
    "\n",
    "* Each value is an integer falling between 0 and 100.\n",
    "* Each value in the list is unique.\n",
    "\n",
    "Print `sample_list_1` to review its values\n",
    "\n",
    "*Hint: use `random.sample` ([reference](https://docs.python.org/3/library/random.html#random.sample)).*"
   ]
  },
  {
   "cell_type": "code",
   "execution_count": 3,
   "metadata": {},
   "outputs": [
    {
     "data": {
      "text/plain": [
       "[11,\n",
       " 76,\n",
       " 81,\n",
       " 44,\n",
       " 42,\n",
       " 53,\n",
       " 79,\n",
       " 99,\n",
       " 86,\n",
       " 12,\n",
       " 50,\n",
       " 15,\n",
       " 39,\n",
       " 60,\n",
       " 22,\n",
       " 98,\n",
       " 19,\n",
       " 64,\n",
       " 82,\n",
       " 59,\n",
       " 66,\n",
       " 91,\n",
       " 72,\n",
       " 9,\n",
       " 55,\n",
       " 4,\n",
       " 37,\n",
       " 49,\n",
       " 78,\n",
       " 21,\n",
       " 5,\n",
       " 92,\n",
       " 45,\n",
       " 68,\n",
       " 73,\n",
       " 97,\n",
       " 3,\n",
       " 24,\n",
       " 87,\n",
       " 48,\n",
       " 33,\n",
       " 74,\n",
       " 26,\n",
       " 16,\n",
       " 56,\n",
       " 90,\n",
       " 20,\n",
       " 58,\n",
       " 65,\n",
       " 71,\n",
       " 84,\n",
       " 96,\n",
       " 7,\n",
       " 47,\n",
       " 18,\n",
       " 41,\n",
       " 17,\n",
       " 14,\n",
       " 69,\n",
       " 54,\n",
       " 80,\n",
       " 6,\n",
       " 52,\n",
       " 10,\n",
       " 28,\n",
       " 43,\n",
       " 38,\n",
       " 83,\n",
       " 70,\n",
       " 40,\n",
       " 93,\n",
       " 63,\n",
       " 34,\n",
       " 61,\n",
       " 30,\n",
       " 89,\n",
       " 36,\n",
       " 57,\n",
       " 29,\n",
       " 23]"
      ]
     },
     "execution_count": 3,
     "metadata": {},
     "output_type": "execute_result"
    }
   ],
   "source": [
    "# Your code here\n",
    "sample_list_1 = random.sample(range(100), 80)\n",
    "sample_list_1"
   ]
  },
  {
   "cell_type": "markdown",
   "metadata": {},
   "source": [
    "#### Convert `sample_list_1` to a set called `set1`. Print the length of the set. Is its length still 80?"
   ]
  },
  {
   "cell_type": "code",
   "execution_count": 4,
   "metadata": {},
   "outputs": [
    {
     "name": "stdout",
     "output_type": "stream",
     "text": [
      "<class 'set'>\n"
     ]
    },
    {
     "data": {
      "text/plain": [
       "80"
      ]
     },
     "execution_count": 4,
     "metadata": {},
     "output_type": "execute_result"
    }
   ],
   "source": [
    "# Your code here\n",
    "set1 = set(sample_list_1)#Si no lo almacenas vuelve a lista. \n",
    "print(type(set1))\n",
    "len(set1)"
   ]
  },
  {
   "cell_type": "markdown",
   "metadata": {},
   "source": [
    "#### Create another list named `sample_list_2` with 80 random values.\n",
    "\n",
    "Requirements:\n",
    "\n",
    "* Each value is an integer falling between 0 and 100.\n",
    "* The values in the list don't have to be unique.\n",
    "\n",
    "*Hint: Use a FOR loop.*"
   ]
  },
  {
   "cell_type": "code",
   "execution_count": 5,
   "metadata": {},
   "outputs": [
    {
     "data": {
      "text/plain": [
       "[94,\n",
       " 53,\n",
       " 25,\n",
       " 11,\n",
       " 88,\n",
       " 5,\n",
       " 97,\n",
       " 83,\n",
       " 42,\n",
       " 35,\n",
       " 55,\n",
       " 33,\n",
       " 24,\n",
       " 85,\n",
       " 94,\n",
       " 19,\n",
       " 99,\n",
       " 42,\n",
       " 10,\n",
       " 94,\n",
       " 40,\n",
       " 92,\n",
       " 25,\n",
       " 8,\n",
       " 44,\n",
       " 85,\n",
       " 99,\n",
       " 89,\n",
       " 67,\n",
       " 28,\n",
       " 19,\n",
       " 78,\n",
       " 32,\n",
       " 77,\n",
       " 95,\n",
       " 95,\n",
       " 31,\n",
       " 28,\n",
       " 54,\n",
       " 10,\n",
       " 75,\n",
       " 36,\n",
       " 62,\n",
       " 17,\n",
       " 55,\n",
       " 61,\n",
       " 91,\n",
       " 31,\n",
       " 96,\n",
       " 93,\n",
       " 77,\n",
       " 14,\n",
       " 20,\n",
       " 87,\n",
       " 85,\n",
       " 1,\n",
       " 58,\n",
       " 71,\n",
       " 7,\n",
       " 19,\n",
       " 10,\n",
       " 11,\n",
       " 27,\n",
       " 47,\n",
       " 57,\n",
       " 41,\n",
       " 61,\n",
       " 22,\n",
       " 87,\n",
       " 57,\n",
       " 69,\n",
       " 78,\n",
       " 97,\n",
       " 99,\n",
       " 1,\n",
       " 80,\n",
       " 21,\n",
       " 42,\n",
       " 52,\n",
       " 60]"
      ]
     },
     "execution_count": 5,
     "metadata": {},
     "output_type": "execute_result"
    }
   ],
   "source": [
    "# Your code here\n",
    "sample_list_2 = []\n",
    "\n",
    "for i in range(80):\n",
    "    X = random.sample(range(100), 1)\n",
    "    sample_list_2.extend(X)\n",
    "    \n",
    "sample_list_2"
   ]
  },
  {
   "cell_type": "markdown",
   "metadata": {},
   "source": [
    "#### Convert `sample_list_2` to a set called `set2`. Print the length of the set. Is its length still 80?"
   ]
  },
  {
   "cell_type": "code",
   "execution_count": 6,
   "metadata": {},
   "outputs": [
    {
     "name": "stdout",
     "output_type": "stream",
     "text": [
      "{1, 5, 7, 8, 10, 11, 14, 17, 19, 20, 21, 22, 24, 25, 27, 28, 31, 32, 33, 35, 36, 40, 41, 42, 44, 47, 52, 53, 54, 55, 57, 58, 60, 61, 62, 67, 69, 71, 75, 77, 78, 80, 83, 85, 87, 88, 89, 91, 92, 93, 94, 95, 96, 97, 99}\n"
     ]
    }
   ],
   "source": [
    "# Your code here\n",
    "set2 = set(sample_list_2)\n",
    "print(set2)"
   ]
  },
  {
   "cell_type": "markdown",
   "metadata": {},
   "source": [
    "#### Identify the elements present in `set1` but not in `set2`. Assign the elements to a new set named `set3`."
   ]
  },
  {
   "cell_type": "code",
   "execution_count": 7,
   "metadata": {},
   "outputs": [
    {
     "name": "stdout",
     "output_type": "stream",
     "text": [
      "{3, 4, 6, 9, 12, 15, 16, 18, 23, 26, 29, 30, 34, 37, 38, 39, 43, 45, 48, 49, 50, 56, 59, 63, 64, 65, 66, 68, 70, 72, 73, 74, 76, 79, 81, 82, 84, 86, 90, 98}\n"
     ]
    }
   ],
   "source": [
    "# Your code here\n",
    "set3 = []\n",
    "set3 = (set1)-(set2)\n",
    "print(set3)"
   ]
  },
  {
   "cell_type": "markdown",
   "metadata": {},
   "source": [
    "#### Identify the elements present in `set2` but not in `set1`. Assign the elements to a new set named `set4`."
   ]
  },
  {
   "cell_type": "code",
   "execution_count": 8,
   "metadata": {},
   "outputs": [
    {
     "name": "stdout",
     "output_type": "stream",
     "text": [
      "{32, 1, 35, 67, 8, 75, 77, 95, 85, 94, 88, 25, 27, 62, 31}\n"
     ]
    }
   ],
   "source": [
    "# Your code here\n",
    "set4 = []\n",
    "set4 = (set2)-(set1)\n",
    "print(set4)"
   ]
  },
  {
   "cell_type": "markdown",
   "metadata": {},
   "source": [
    "#### Now Identify the elements shared between `set1` and `set2`. Assign the elements to a new set named `set5`."
   ]
  },
  {
   "cell_type": "code",
   "execution_count": 9,
   "metadata": {},
   "outputs": [
    {
     "name": "stdout",
     "output_type": "stream",
     "text": [
      "{5, 7, 10, 11, 14, 17, 19, 20, 21, 22, 24, 28, 33, 36, 40, 41, 42, 44, 47, 52, 53, 54, 55, 57, 58, 60, 61, 69, 71, 78, 80, 83, 87, 89, 91, 92, 93, 96, 97, 99}\n"
     ]
    }
   ],
   "source": [
    "# Your code here\n",
    "set5 = set1 & set2\n",
    "print(set5)"
   ]
  },
  {
   "cell_type": "markdown",
   "metadata": {},
   "source": [
    "#### What is the relationship among the following values:\n",
    "\n",
    "* len(set1)\n",
    "* len(set2)\n",
    "* len(set3)\n",
    "* len(set4)\n",
    "* len(set5)\n",
    "\n",
    "Use a math formular to represent that relationship. Test your formular with Python code."
   ]
  },
  {
   "cell_type": "code",
   "execution_count": 19,
   "metadata": {},
   "outputs": [
    {
     "ename": "TypeError",
     "evalue": "unsupported operand type(s) for +: 'set' and 'set'",
     "output_type": "error",
     "traceback": [
      "\u001b[0;31m---------------------------------------------------------------------------\u001b[0m",
      "\u001b[0;31mTypeError\u001b[0m                                 Traceback (most recent call last)",
      "\u001b[0;32m/var/folders/v7/b_w4v4wj48707qytc6tfxtjw0000gn/T/ipykernel_2386/2648575475.py\u001b[0m in \u001b[0;36m<module>\u001b[0;34m\u001b[0m\n\u001b[1;32m      1\u001b[0m \u001b[0;31m# Your code here\u001b[0m\u001b[0;34m\u001b[0m\u001b[0;34m\u001b[0m\u001b[0;34m\u001b[0m\u001b[0m\n\u001b[0;32m----> 2\u001b[0;31m \u001b[0mset1\u001b[0m\u001b[0;34m+\u001b[0m\u001b[0mset2\u001b[0m \u001b[0;34m==\u001b[0m \u001b[0mset3\u001b[0m\u001b[0;34m+\u001b[0m\u001b[0mset4\u001b[0m\u001b[0;34m+\u001b[0m\u001b[0mset5\u001b[0m\u001b[0;34m\u001b[0m\u001b[0;34m\u001b[0m\u001b[0m\n\u001b[0m",
      "\u001b[0;31mTypeError\u001b[0m: unsupported operand type(s) for +: 'set' and 'set'"
     ]
    }
   ],
   "source": [
    "# Your code here\n",
    "set1+set2 == set3+set4+set5"
   ]
  },
  {
   "cell_type": "markdown",
   "metadata": {},
   "source": [
    "#### Create an empty set called `set6`."
   ]
  },
  {
   "cell_type": "code",
   "execution_count": 11,
   "metadata": {},
   "outputs": [
    {
     "data": {
      "text/plain": [
       "set"
      ]
     },
     "execution_count": 11,
     "metadata": {},
     "output_type": "execute_result"
    }
   ],
   "source": [
    "# Your code here\n",
    "set6 = set()\n",
    "type(set6)"
   ]
  },
  {
   "cell_type": "markdown",
   "metadata": {},
   "source": [
    "#### Add `set3` and `set5` to `set6` using the Python Set `update` method."
   ]
  },
  {
   "cell_type": "code",
   "execution_count": 12,
   "metadata": {},
   "outputs": [],
   "source": [
    "# Your code here\n",
    "set6.update(set3, set5)\n"
   ]
  },
  {
   "cell_type": "markdown",
   "metadata": {},
   "source": [
    "#### Check if `set1` and `set6` are equal."
   ]
  },
  {
   "cell_type": "code",
   "execution_count": 13,
   "metadata": {},
   "outputs": [
    {
     "data": {
      "text/plain": [
       "True"
      ]
     },
     "execution_count": 13,
     "metadata": {},
     "output_type": "execute_result"
    }
   ],
   "source": [
    "# Your code here\n",
    "set1 == set6"
   ]
  },
  {
   "cell_type": "markdown",
   "metadata": {},
   "source": [
    "#### Check if `set1` contains `set2` using the Python Set `issubset` method. Then check if `set1` contains `set3`.*"
   ]
  },
  {
   "cell_type": "code",
   "execution_count": 14,
   "metadata": {},
   "outputs": [
    {
     "name": "stdout",
     "output_type": "stream",
     "text": [
      "False\n",
      "True\n"
     ]
    }
   ],
   "source": [
    "# Your code here\n",
    "print(set2.issubset(set1))\n",
    "print(set3.issubset(set1))"
   ]
  },
  {
   "cell_type": "markdown",
   "metadata": {},
   "source": [
    "#### Using the Python Set `union` method, aggregate `set3`, `set4`, and `set5`. Then aggregate `set1` and `set2`. \n",
    "\n",
    "#### Check if the aggregated values are equal."
   ]
  },
  {
   "cell_type": "code",
   "execution_count": 15,
   "metadata": {},
   "outputs": [
    {
     "data": {
      "text/plain": [
       "True"
      ]
     },
     "execution_count": 15,
     "metadata": {},
     "output_type": "execute_result"
    }
   ],
   "source": [
    "# Your code here\n",
    "set7 = set3.union(set4,set5)\n",
    "set8 = set1.union(set2)\n",
    "set7 == set8"
   ]
  },
  {
   "cell_type": "markdown",
   "metadata": {},
   "source": [
    "#### Using the `pop` method, remove the first element from `set1`."
   ]
  },
  {
   "cell_type": "code",
   "execution_count": 16,
   "metadata": {},
   "outputs": [
    {
     "data": {
      "text/plain": [
       "79"
      ]
     },
     "execution_count": 16,
     "metadata": {},
     "output_type": "execute_result"
    }
   ],
   "source": [
    "# Your code here\n",
    "set1.pop()#Elimina el más pequeño.\n",
    "len(set1)"
   ]
  },
  {
   "cell_type": "markdown",
   "metadata": {},
   "source": [
    "#### Remove every element in the following list from `set1` if they are present in the set. Print the remaining elements.\n",
    "\n",
    "```\n",
    "list_to_remove = [1, 9, 11, 19, 21, 29, 31, 39, 41, 49, 51, 59, 61, 69, 71, 79, 81, 89, 91, 99]\n",
    "```"
   ]
  },
  {
   "cell_type": "code",
   "execution_count": 17,
   "metadata": {},
   "outputs": [
    {
     "name": "stdout",
     "output_type": "stream",
     "text": [
      "{4, 5, 6, 7, 10, 12, 14, 15, 16, 17, 18, 20, 22, 23, 24, 26, 28, 30, 33, 34, 36, 37, 38, 40, 42, 43, 44, 45, 47, 48, 50, 52, 53, 54, 55, 56, 57, 58, 60, 63, 64, 65, 66, 68, 70, 72, 73, 74, 76, 78, 80, 82, 83, 84, 86, 87, 90, 92, 93, 96, 97, 98}\n"
     ]
    }
   ],
   "source": [
    "# Your code here\n",
    "list_to_remove = [1, 9, 11, 19, 21, 29, 31, 39, 41, 49, 51, 59, 61, 69, 71, 79, 81, 89, 91, 99]\n",
    "\n",
    "for i in list_to_remove:\n",
    "    if i in set1:\n",
    "        set1.remove(i)\n",
    "    else:\n",
    "        continue\n",
    "print(set1)"
   ]
  }
 ],
 "metadata": {
  "kernelspec": {
   "display_name": "Python [conda env:ironhack]",
   "language": "python",
   "name": "conda-env-ironhack-py"
  },
  "language_info": {
   "codemirror_mode": {
    "name": "ipython",
    "version": 3
   },
   "file_extension": ".py",
   "mimetype": "text/x-python",
   "name": "python",
   "nbconvert_exporter": "python",
   "pygments_lexer": "ipython3",
   "version": "3.7.11"
  }
 },
 "nbformat": 4,
 "nbformat_minor": 2
}

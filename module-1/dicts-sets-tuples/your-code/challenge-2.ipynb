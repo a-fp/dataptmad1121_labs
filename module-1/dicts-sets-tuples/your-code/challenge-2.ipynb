{
 "cells": [
  {
   "cell_type": "markdown",
   "metadata": {},
   "source": [
    "## Challenge 2: Sets\n",
    "\n",
    "There are a lot to learn about Python Sets and the information presented in the lesson is limited due to its length. To learn Python Sets in depth you are strongly encouraged to review the W3Schools tutorial on [Python Sets Examples and Methods](https://www.w3schools.com/python/python_sets.asp) before you work on this lab. Some difficult questions in this lab have their solutions in the W3Schools tutorial.\n",
    "\n",
    "#### First, import the Python `random` library."
   ]
  },
  {
   "cell_type": "code",
   "execution_count": 41,
   "metadata": {},
   "outputs": [],
   "source": [
    "import random"
   ]
  },
  {
   "cell_type": "markdown",
   "metadata": {},
   "source": [
    "#### In the cell below, create a list named `sample_list_1` with 80 random values. \n",
    "\n",
    "Requirements:\n",
    "\n",
    "* Each value is an integer falling between 0 and 100.\n",
    "* Each value in the list is unique.\n",
    "\n",
    "Print `sample_list_1` to review its values\n",
    "\n",
    "*Hint: use `random.sample` ([reference](https://docs.python.org/3/library/random.html#random.sample)).*"
   ]
  },
  {
   "cell_type": "code",
   "execution_count": 42,
   "metadata": {},
   "outputs": [
    {
     "data": {
      "text/plain": [
       "[18,\n",
       " 4,\n",
       " 39,\n",
       " 24,\n",
       " 80,\n",
       " 75,\n",
       " 94,\n",
       " 91,\n",
       " 86,\n",
       " 52,\n",
       " 92,\n",
       " 99,\n",
       " 6,\n",
       " 11,\n",
       " 43,\n",
       " 81,\n",
       " 37,\n",
       " 35,\n",
       " 50,\n",
       " 54,\n",
       " 63,\n",
       " 95,\n",
       " 61,\n",
       " 30,\n",
       " 26,\n",
       " 76,\n",
       " 73,\n",
       " 96,\n",
       " 84,\n",
       " 71,\n",
       " 7,\n",
       " 22,\n",
       " 83,\n",
       " 42,\n",
       " 10,\n",
       " 32,\n",
       " 2,\n",
       " 58,\n",
       " 3,\n",
       " 40,\n",
       " 97,\n",
       " 56,\n",
       " 12,\n",
       " 90,\n",
       " 25,\n",
       " 55,\n",
       " 13,\n",
       " 17,\n",
       " 14,\n",
       " 87,\n",
       " 66,\n",
       " 19,\n",
       " 1,\n",
       " 47,\n",
       " 62,\n",
       " 67,\n",
       " 9,\n",
       " 46,\n",
       " 51,\n",
       " 8,\n",
       " 5,\n",
       " 89,\n",
       " 38,\n",
       " 77,\n",
       " 23,\n",
       " 78,\n",
       " 27,\n",
       " 59,\n",
       " 93,\n",
       " 44,\n",
       " 60,\n",
       " 31,\n",
       " 69,\n",
       " 41,\n",
       " 72,\n",
       " 15,\n",
       " 36,\n",
       " 88,\n",
       " 20,\n",
       " 28]"
      ]
     },
     "execution_count": 42,
     "metadata": {},
     "output_type": "execute_result"
    }
   ],
   "source": [
    "# Your code here\n",
    "sample_list_1 = random.sample(range(100), 80)\n",
    "sample_list_1"
   ]
  },
  {
   "cell_type": "markdown",
   "metadata": {},
   "source": [
    "#### Convert `sample_list_1` to a set called `set1`. Print the length of the set. Is its length still 80?"
   ]
  },
  {
   "cell_type": "code",
   "execution_count": 43,
   "metadata": {},
   "outputs": [
    {
     "name": "stdout",
     "output_type": "stream",
     "text": [
      "<class 'set'>\n"
     ]
    },
    {
     "data": {
      "text/plain": [
       "80"
      ]
     },
     "execution_count": 43,
     "metadata": {},
     "output_type": "execute_result"
    }
   ],
   "source": [
    "# Your code here\n",
    "set1 = set(sample_list_1)#Si no lo almacenas vuelve a lista. \n",
    "print(type(set1))\n",
    "len(set1)"
   ]
  },
  {
   "cell_type": "markdown",
   "metadata": {},
   "source": [
    "#### Create another list named `sample_list_2` with 80 random values.\n",
    "\n",
    "Requirements:\n",
    "\n",
    "* Each value is an integer falling between 0 and 100.\n",
    "* The values in the list don't have to be unique.\n",
    "\n",
    "*Hint: Use a FOR loop.*"
   ]
  },
  {
   "cell_type": "code",
   "execution_count": 44,
   "metadata": {},
   "outputs": [
    {
     "data": {
      "text/plain": [
       "[85,\n",
       " 54,\n",
       " 41,\n",
       " 49,\n",
       " 58,\n",
       " 22,\n",
       " 97,\n",
       " 36,\n",
       " 95,\n",
       " 69,\n",
       " 86,\n",
       " 97,\n",
       " 40,\n",
       " 56,\n",
       " 54,\n",
       " 98,\n",
       " 69,\n",
       " 31,\n",
       " 95,\n",
       " 66,\n",
       " 51,\n",
       " 29,\n",
       " 72,\n",
       " 74,\n",
       " 3,\n",
       " 35,\n",
       " 69,\n",
       " 77,\n",
       " 65,\n",
       " 95,\n",
       " 2,\n",
       " 88,\n",
       " 71,\n",
       " 82,\n",
       " 14,\n",
       " 75,\n",
       " 12,\n",
       " 92,\n",
       " 86,\n",
       " 77,\n",
       " 48,\n",
       " 20,\n",
       " 22,\n",
       " 78,\n",
       " 46,\n",
       " 91,\n",
       " 85,\n",
       " 92,\n",
       " 17,\n",
       " 33,\n",
       " 22,\n",
       " 52,\n",
       " 88,\n",
       " 87,\n",
       " 26,\n",
       " 89,\n",
       " 27,\n",
       " 39,\n",
       " 67,\n",
       " 42,\n",
       " 97,\n",
       " 83,\n",
       " 30,\n",
       " 44,\n",
       " 26,\n",
       " 45,\n",
       " 57,\n",
       " 27,\n",
       " 79,\n",
       " 54,\n",
       " 21,\n",
       " 70,\n",
       " 64,\n",
       " 7,\n",
       " 66,\n",
       " 25,\n",
       " 48,\n",
       " 92,\n",
       " 6,\n",
       " 34]"
      ]
     },
     "execution_count": 44,
     "metadata": {},
     "output_type": "execute_result"
    }
   ],
   "source": [
    "# Your code here\n",
    "sample_list_2 = []\n",
    "\n",
    "for i in range(80):\n",
    "    X = random.sample(range(100), 1)\n",
    "    sample_list_2.extend(X)\n",
    "    \n",
    "sample_list_2"
   ]
  },
  {
   "cell_type": "markdown",
   "metadata": {},
   "source": [
    "#### Convert `sample_list_2` to a set called `set2`. Print the length of the set. Is its length still 80?"
   ]
  },
  {
   "cell_type": "code",
   "execution_count": 45,
   "metadata": {},
   "outputs": [
    {
     "name": "stdout",
     "output_type": "stream",
     "text": [
      "{2, 3, 6, 7, 12, 14, 17, 20, 21, 22, 25, 26, 27, 29, 30, 31, 33, 34, 35, 36, 39, 40, 41, 42, 44, 45, 46, 48, 49, 51, 52, 54, 56, 57, 58, 64, 65, 66, 67, 69, 70, 71, 72, 74, 75, 77, 78, 79, 82, 83, 85, 86, 87, 88, 89, 91, 92, 95, 97, 98}\n"
     ]
    }
   ],
   "source": [
    "# Your code here\n",
    "set2 = set(sample_list_2)\n",
    "print(set2)"
   ]
  },
  {
   "cell_type": "markdown",
   "metadata": {},
   "source": [
    "#### Identify the elements present in `set1` but not in `set2`. Assign the elements to a new set named `set3`."
   ]
  },
  {
   "cell_type": "code",
   "execution_count": 46,
   "metadata": {},
   "outputs": [
    {
     "name": "stdout",
     "output_type": "stream",
     "text": [
      "{1, 4, 5, 8, 9, 10, 11, 13, 15, 18, 19, 23, 24, 28, 32, 37, 38, 43, 47, 50, 55, 59, 60, 61, 62, 63, 73, 76, 80, 81, 84, 90, 93, 94, 96, 99}\n"
     ]
    }
   ],
   "source": [
    "# Your code here\n",
    "set3 = []\n",
    "set3 = (set1)-(set2)\n",
    "print(set3)"
   ]
  },
  {
   "cell_type": "markdown",
   "metadata": {},
   "source": [
    "#### Identify the elements present in `set2` but not in `set1`. Assign the elements to a new set named `set4`."
   ]
  },
  {
   "cell_type": "code",
   "execution_count": 47,
   "metadata": {},
   "outputs": [
    {
     "name": "stdout",
     "output_type": "stream",
     "text": [
      "{64, 33, 34, 65, 98, 70, 74, 45, 79, 48, 49, 82, 21, 85, 57, 29}\n"
     ]
    }
   ],
   "source": [
    "# Your code here\n",
    "set4 = []\n",
    "set4 = (set2)-(set1)\n",
    "print(set4)"
   ]
  },
  {
   "cell_type": "markdown",
   "metadata": {},
   "source": [
    "#### Now Identify the elements shared between `set1` and `set2`. Assign the elements to a new set named `set5`."
   ]
  },
  {
   "cell_type": "code",
   "execution_count": 48,
   "metadata": {},
   "outputs": [
    {
     "name": "stdout",
     "output_type": "stream",
     "text": [
      "{2, 3, 6, 7, 12, 14, 17, 20, 22, 25, 26, 27, 30, 31, 35, 36, 39, 40, 41, 42, 44, 46, 51, 52, 54, 56, 58, 66, 67, 69, 71, 72, 75, 77, 78, 83, 86, 87, 88, 89, 91, 92, 95, 97}\n"
     ]
    }
   ],
   "source": [
    "# Your code here\n",
    "set5 = set1 & set2\n",
    "print(set5)"
   ]
  },
  {
   "cell_type": "markdown",
   "metadata": {},
   "source": [
    "#### What is the relationship among the following values:\n",
    "\n",
    "* len(set1)\n",
    "* len(set2)\n",
    "* len(set3)\n",
    "* len(set4)\n",
    "* len(set5)\n",
    "\n",
    "Use a math formular to represent that relationship. Test your formular with Python code."
   ]
  },
  {
   "cell_type": "code",
   "execution_count": 49,
   "metadata": {},
   "outputs": [
    {
     "data": {
      "text/plain": [
       "True"
      ]
     },
     "execution_count": 49,
     "metadata": {},
     "output_type": "execute_result"
    }
   ],
   "source": [
    "# Your code here\n",
    "set5 == (set1.union(set2))-((set1-set2).union(set2-set1))"
   ]
  },
  {
   "cell_type": "markdown",
   "metadata": {},
   "source": [
    "#### Create an empty set called `set6`."
   ]
  },
  {
   "cell_type": "code",
   "execution_count": 50,
   "metadata": {},
   "outputs": [
    {
     "data": {
      "text/plain": [
       "set"
      ]
     },
     "execution_count": 50,
     "metadata": {},
     "output_type": "execute_result"
    }
   ],
   "source": [
    "# Your code here\n",
    "set6 = set()\n",
    "type(set6)"
   ]
  },
  {
   "cell_type": "markdown",
   "metadata": {},
   "source": [
    "#### Add `set3` and `set5` to `set6` using the Python Set `update` method."
   ]
  },
  {
   "cell_type": "code",
   "execution_count": 51,
   "metadata": {},
   "outputs": [],
   "source": [
    "# Your code here\n",
    "set6.update(set3, set5)\n"
   ]
  },
  {
   "cell_type": "markdown",
   "metadata": {},
   "source": [
    "#### Check if `set1` and `set6` are equal."
   ]
  },
  {
   "cell_type": "code",
   "execution_count": 52,
   "metadata": {},
   "outputs": [
    {
     "data": {
      "text/plain": [
       "True"
      ]
     },
     "execution_count": 52,
     "metadata": {},
     "output_type": "execute_result"
    }
   ],
   "source": [
    "# Your code here\n",
    "set1 == set6"
   ]
  },
  {
   "cell_type": "markdown",
   "metadata": {},
   "source": [
    "#### Check if `set1` contains `set2` using the Python Set `issubset` method. Then check if `set1` contains `set3`.*"
   ]
  },
  {
   "cell_type": "code",
   "execution_count": 53,
   "metadata": {},
   "outputs": [
    {
     "name": "stdout",
     "output_type": "stream",
     "text": [
      "False\n",
      "True\n"
     ]
    }
   ],
   "source": [
    "# Your code here\n",
    "print(set2.issubset(set1))\n",
    "print(set3.issubset(set1))"
   ]
  },
  {
   "cell_type": "markdown",
   "metadata": {},
   "source": [
    "#### Using the Python Set `union` method, aggregate `set3`, `set4`, and `set5`. Then aggregate `set1` and `set2`. \n",
    "\n",
    "#### Check if the aggregated values are equal."
   ]
  },
  {
   "cell_type": "code",
   "execution_count": 54,
   "metadata": {},
   "outputs": [
    {
     "data": {
      "text/plain": [
       "True"
      ]
     },
     "execution_count": 54,
     "metadata": {},
     "output_type": "execute_result"
    }
   ],
   "source": [
    "# Your code here\n",
    "set7 = set3.union(set4,set5)\n",
    "set8 = set1.union(set2)\n",
    "set7 == set8"
   ]
  },
  {
   "cell_type": "markdown",
   "metadata": {},
   "source": [
    "#### Using the `pop` method, remove the first element from `set1`."
   ]
  },
  {
   "cell_type": "code",
   "execution_count": 55,
   "metadata": {},
   "outputs": [
    {
     "data": {
      "text/plain": [
       "79"
      ]
     },
     "execution_count": 55,
     "metadata": {},
     "output_type": "execute_result"
    }
   ],
   "source": [
    "# Your code here\n",
    "set1.pop()#Elimina el más pequeño.\n",
    "len(set1)"
   ]
  },
  {
   "cell_type": "markdown",
   "metadata": {},
   "source": [
    "#### Remove every element in the following list from `set1` if they are present in the set. Print the remaining elements.\n",
    "\n",
    "```\n",
    "list_to_remove = [1, 9, 11, 19, 21, 29, 31, 39, 41, 49, 51, 59, 61, 69, 71, 79, 81, 89, 91, 99]\n",
    "```"
   ]
  },
  {
   "cell_type": "code",
   "execution_count": 56,
   "metadata": {},
   "outputs": [
    {
     "name": "stdout",
     "output_type": "stream",
     "text": [
      "{2, 3, 4, 5, 6, 7, 8, 10, 12, 13, 14, 15, 17, 18, 20, 22, 23, 24, 25, 26, 27, 28, 30, 32, 35, 36, 37, 38, 40, 42, 43, 44, 46, 47, 50, 52, 54, 55, 56, 58, 60, 62, 63, 66, 67, 72, 73, 75, 76, 77, 78, 80, 83, 84, 86, 87, 88, 90, 92, 93, 94, 95, 96, 97}\n"
     ]
    }
   ],
   "source": [
    "# Your code here\n",
    "list_to_remove = [1, 9, 11, 19, 21, 29, 31, 39, 41, 49, 51, 59, 61, 69, 71, 79, 81, 89, 91, 99]\n",
    "\n",
    "for i in list_to_remove:\n",
    "    if i in set1:\n",
    "        set1.remove(i)\n",
    "    else:\n",
    "        continue\n",
    "print(set1)"
   ]
  }
 ],
 "metadata": {
  "kernelspec": {
   "display_name": "Python [conda env:ironhack]",
   "language": "python",
   "name": "conda-env-ironhack-py"
  },
  "language_info": {
   "codemirror_mode": {
    "name": "ipython",
    "version": 3
   },
   "file_extension": ".py",
   "mimetype": "text/x-python",
   "name": "python",
   "nbconvert_exporter": "python",
   "pygments_lexer": "ipython3",
   "version": "3.7.11"
  }
 },
 "nbformat": 4,
 "nbformat_minor": 2
}

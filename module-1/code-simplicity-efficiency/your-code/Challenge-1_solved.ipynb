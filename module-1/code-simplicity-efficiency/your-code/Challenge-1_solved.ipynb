{
 "cells": [
  {
   "cell_type": "code",
   "execution_count": 45,
   "id": "8421da87",
   "metadata": {},
   "outputs": [
    {
     "name": "stdout",
     "output_type": "stream",
     "text": [
      "Please choose your first number (zero to five): one\n",
      "Please choose your first number (zero to five): one\n",
      "What do you want to do?plus\n",
      "1\n",
      "1\n",
      "one plus one equals two\n"
     ]
    }
   ],
   "source": [
    "from word2number import w2n\n",
    "from num2words import num2words\n",
    "a = input(\"Please choose your first number (zero to five): \")\n",
    "b = input(\"Please choose your first number (zero to five): \")\n",
    "c = input(\"What do you want to do?\")\n",
    "num1 = w2n.word_to_num(a)\n",
    "num2 = w2n.word_to_num(b)\n",
    "print (num1)\n",
    "print (num2)\n",
    "def minus(num1, num2, a, b, c):\n",
    "    minus = num1-num2\n",
    "    return a+\"\"+c+\"\"+b+\"equal\"+num2words(minus)\n",
    "def plus(num1,num2,a,b,c):\n",
    "    plus = num1+num2\n",
    "    return a+\" \"+c+\" \"+b+\" \"+\"equals\"+\" \"+num2words(plus)\n",
    "if (not a == 'zero' and not a == 'one' and not a == 'two' and not a == 'three' and not a == 'four' and not a == 'five') or (not b == 'zero' and not b == 'one' and not b == 'two' and not b == 'three' and not b == 'four' and not b == 'five') or (not c == 'plus' and not c == 'minus'):\n",
    "    print(\"I am not able to answer this question. Check your input.\")\n",
    "elif c == \"minus\":\n",
    "    print (minus (num1,num2,a,b,c))\n",
    "elif c == \"plus\":\n",
    "    print (plus (num1,num2,a,b,c))\n"
   ]
  },
  {
   "cell_type": "code",
   "execution_count": null,
   "id": "85cfe386",
   "metadata": {},
   "outputs": [],
   "source": []
  }
 ],
 "metadata": {
  "kernelspec": {
   "display_name": "Python [conda env:ironhack]",
   "language": "python",
   "name": "conda-env-ironhack-py"
  },
  "language_info": {
   "codemirror_mode": {
    "name": "ipython",
    "version": 3
   },
   "file_extension": ".py",
   "mimetype": "text/x-python",
   "name": "python",
   "nbconvert_exporter": "python",
   "pygments_lexer": "ipython3",
   "version": "3.7.11"
  }
 },
 "nbformat": 4,
 "nbformat_minor": 5
}

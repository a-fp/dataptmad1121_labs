{
 "cells": [
  {
   "cell_type": "code",
   "execution_count": 71,
   "id": "0df0e983",
   "metadata": {},
   "outputs": [
    {
     "name": "stdout",
     "output_type": "stream",
     "text": [
      "What is the maximal length of the triangle side? Enter a number: 500\n",
      "The longest side possible is 495.0\n",
      "CPU times: user 288 ms, sys: 17.8 ms, total: 306 ms\n",
      "Wall time: 2.28 s\n"
     ]
    }
   ],
   "source": [
    "%%time\n",
    "# Con una muestra de 500\n",
    "# Mi código tarda -> CPU times: user 288 ms, sys: 17.8 ms, total: 306 ms // Wall time: 2.28 s segundos\n",
    "# El código facilitado -> CPU times: user 19.5 s, sys: 147 ms, total: 19.7 s // Wall time: 22.5 s\n",
    "\n",
    "import math\n",
    "def test(X):\n",
    "    solutions = []\n",
    "    for x in range(5,X):\n",
    "        for y in range(4,X):\n",
    "            h = math.sqrt(x**2 + y**2)\n",
    "            if h== int(h) and (h*h==x*x+y*y) and h<X:\n",
    "                solutions.append([h, x, y])\n",
    "                \n",
    "    m = 0\n",
    "    for solution in solutions:\n",
    "        if m < max(solution):\n",
    "            m = max(solution)\n",
    "    return m\n",
    "\n",
    "X = input(\"What is the maximal length of the triangle side? Enter a number: \")\n",
    "\n",
    "print(\"The longest side possible is \" + str(test(int(X))))           \n"
   ]
  },
  {
   "cell_type": "code",
   "execution_count": 72,
   "id": "d92436b1",
   "metadata": {},
   "outputs": [
    {
     "name": "stdout",
     "output_type": "stream",
     "text": [
      "What is the maximal length of the triangle side? Enter a number: 500\n",
      "The longest side possible is 495\n",
      "CPU times: user 19.5 s, sys: 147 ms, total: 19.7 s\n",
      "Wall time: 22.5 s\n"
     ]
    }
   ],
   "source": [
    "%%time\n",
    "def my_function(X):\n",
    "    solutions = []\n",
    "    for x in range(5, X):\n",
    "        for y in range(4, X):\n",
    "            for z in range(3, X):\n",
    "                if (x*x==y*y+z*z):\n",
    "                    solutions.append([x, y, z])\n",
    "    m = 0\n",
    "    for solution in solutions:\n",
    "        if m < max(solution):\n",
    "            m = max(solution)\n",
    "    return m\n",
    "\n",
    "X = input(\"What is the maximal length of the triangle side? Enter a number: \")\n",
    "\n",
    "print(\"The longest side possible is \" + str(my_function(int(X))))"
   ]
  }
 ],
 "metadata": {
  "kernelspec": {
   "display_name": "Python [conda env:ironhack]",
   "language": "python",
   "name": "conda-env-ironhack-py"
  },
  "language_info": {
   "codemirror_mode": {
    "name": "ipython",
    "version": 3
   },
   "file_extension": ".py",
   "mimetype": "text/x-python",
   "name": "python",
   "nbconvert_exporter": "python",
   "pygments_lexer": "ipython3",
   "version": "3.7.11"
  }
 },
 "nbformat": 4,
 "nbformat_minor": 5
}

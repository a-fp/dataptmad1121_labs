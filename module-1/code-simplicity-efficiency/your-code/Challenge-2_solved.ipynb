{
 "cells": [
  {
   "cell_type": "code",
   "execution_count": 78,
   "id": "940d56d8",
   "metadata": {},
   "outputs": [
    {
     "name": "stdout",
     "output_type": "stream",
     "text": [
      "Enter minimum string length: 1\n",
      "Enter maximum string length: 5\n",
      "How many random strings to generate? 5\n",
      "2\n",
      "901v\n",
      "sg6d\n",
      "3ih\n",
      "d\n"
     ]
    }
   ],
   "source": [
    "import string\n",
    "import random\n",
    "\n",
    "a = int(input('Enter minimum string length: '))\n",
    "b = int(input('Enter maximum string length: '))\n",
    "number_of_strings = int(input('How many random strings to generate? '))\n",
    "\n",
    "def randomstring(a, b, number_of_strings):\n",
    "    for x in range(number_of_strings):\n",
    "        length_of_string = random.choice(range(a, b))\n",
    "        print(''.join(random.choice(string.ascii_lowercase + string.digits) for _ in range(int(length_of_string))))\n",
    "\n",
    "    \n",
    "    \n",
    "randomstring(a, b, number_of_strings)\n"
   ]
  }
 ],
 "metadata": {
  "kernelspec": {
   "display_name": "Python [conda env:ironhack]",
   "language": "python",
   "name": "conda-env-ironhack-py"
  },
  "language_info": {
   "codemirror_mode": {
    "name": "ipython",
    "version": 3
   },
   "file_extension": ".py",
   "mimetype": "text/x-python",
   "name": "python",
   "nbconvert_exporter": "python",
   "pygments_lexer": "ipython3",
   "version": "3.7.11"
  }
 },
 "nbformat": 4,
 "nbformat_minor": 5
}

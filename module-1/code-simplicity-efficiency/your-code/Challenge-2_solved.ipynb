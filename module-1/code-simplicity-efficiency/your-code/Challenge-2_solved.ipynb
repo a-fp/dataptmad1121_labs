{
 "cells": [
  {
   "cell_type": "code",
   "execution_count": 20,
   "id": "a6035f48",
   "metadata": {},
   "outputs": [
    {
     "name": "stdout",
     "output_type": "stream",
     "text": [
      "Enter minimum string length: 2\n",
      "Enter maximum string length: 5\n",
      "How many random strings to generate? 7\n",
      "ex2\n",
      "Bq\n",
      "V0Vy\n",
      "Tx\n",
      "Yk\n",
      "oV\n",
      "w9r\n"
     ]
    }
   ],
   "source": [
    "import random\n",
    "\n",
    "def randomstring(a, b, number_of_strings):\n",
    "    for x in range(number_of_strings):\n",
    "        length_of_string = random.choice(range(a, b))\n",
    "        print(''.join(random.choice(string.ascii_letters + string.digits) for _ in range(int(length_of_string))))\n",
    "\n",
    "    \n",
    "a = int(input('Enter minimum string length: '))\n",
    "b = int(input('Enter maximum string length: '))\n",
    "number_of_strings = int(input('How many random strings to generate? '))    \n",
    "randomstring(a, b, number_of_strings)"
   ]
  },
  {
   "cell_type": "code",
   "execution_count": null,
   "id": "d0f3e261",
   "metadata": {},
   "outputs": [],
   "source": []
  }
 ],
 "metadata": {
  "kernelspec": {
   "display_name": "Python [conda env:ironhack]",
   "language": "python",
   "name": "conda-env-ironhack-py"
  },
  "language_info": {
   "codemirror_mode": {
    "name": "ipython",
    "version": 3
   },
   "file_extension": ".py",
   "mimetype": "text/x-python",
   "name": "python",
   "nbconvert_exporter": "python",
   "pygments_lexer": "ipython3",
   "version": "3.7.11"
  }
 },
 "nbformat": 4,
 "nbformat_minor": 5
}

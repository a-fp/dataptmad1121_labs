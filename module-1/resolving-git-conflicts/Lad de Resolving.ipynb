{
 "cells": [
  {
   "cell_type": "code",
   "execution_count": null,
   "id": "697c775e-7e92-4d8b-bb46-e9246e836652",
   "metadata": {},
   "outputs": [],
   "source": [
    "Este es el lab de git. paso 2 "
   ]
  }
 ],
 "metadata": {
  "kernelspec": {
   "display_name": "Python [conda env:ironhack]",
   "language": "python",
   "name": "conda-env-ironhack-py"
  },
  "language_info": {
   "codemirror_mode": {
    "name": "ipython",
    "version": 3
   },
   "file_extension": ".py",
   "mimetype": "text/x-python",
   "name": "python",
   "nbconvert_exporter": "python",
   "pygments_lexer": "ipython3",
   "version": "3.7.11"
  }
 },
 "nbformat": 4,
 "nbformat_minor": 5
}
